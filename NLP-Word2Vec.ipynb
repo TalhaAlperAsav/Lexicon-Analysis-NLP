{
 "cells": [
  {
   "cell_type": "code",
   "execution_count": 1,
   "id": "ed064ead-4043-49b6-b504-95d34bd9868e",
   "metadata": {},
   "outputs": [
    {
     "name": "stderr",
     "output_type": "stream",
     "text": [
      "[nltk_data] Downloading package punkt to C:\\Users\\ALPER\n",
      "[nltk_data]     ASAV\\AppData\\Roaming\\nltk_data...\n",
      "[nltk_data]   Package punkt is already up-to-date!\n",
      "[nltk_data] Downloading package wordnet to C:\\Users\\ALPER\n",
      "[nltk_data]     ASAV\\AppData\\Roaming\\nltk_data...\n",
      "[nltk_data]   Package wordnet is already up-to-date!\n"
     ]
    }
   ],
   "source": [
    "from gensim.corpora import WikiCorpus\n",
    "from gensim.corpora.wikicorpus import extract_pages\n",
    "from gensim.models import Word2Vec\n",
    "import nltk\n",
    "from nltk.stem import WordNetLemmatizer\n",
    "from tokenizer import tokenize_and_lemmatize\n",
    "import bz2\n",
    "import pickle\n",
    "import os\n",
    "import zipfile\n",
    "import codecs\n",
    "import pandas as pd \n",
    "import numpy as np\n",
    "import gensim"
   ]
  },
  {
   "cell_type": "code",
   "execution_count": 5,
   "id": "dd9d25bb-1738-419d-8c97-625341734491",
   "metadata": {},
   "outputs": [],
   "source": [
    "wiki_dump_path = \"D:/nlp/trwiki-20231220-pages-articles.xml.bz2\""
   ]
  },
  {
   "cell_type": "code",
   "execution_count": 6,
   "id": "ce2006f5-0d61-4818-a1f1-aeb5c43aad4b",
   "metadata": {},
   "outputs": [],
   "source": [
    "wiki_corpus = WikiCorpus(wiki_dump_path, tokenizer_func=tokenize_and_lemmatize)"
   ]
  },
  {
   "cell_type": "code",
   "execution_count": 7,
   "id": "5400ac13-7836-4029-8a40-3a6b6df8e2c2",
   "metadata": {},
   "outputs": [],
   "source": [
    "# Function to extract and save articles\n",
    "def extract_articles(corpus, output_file):\n",
    "    with open(output_file, 'w', encoding='utf-8') as f:\n",
    "        for text in corpus.get_texts():\n",
    "            f.write(' '.join(text) + '\\n')\n",
    "\n",
    "# Extract articles and save to a text file\n",
    "extract_articles(wiki_corpus, \"trwiki_dump.txt\")"
   ]
  },
  {
   "cell_type": "code",
   "execution_count": 5,
   "id": "6a2c8ea8-1c74-40ce-8bcc-bbe9d6982272",
   "metadata": {},
   "outputs": [],
   "source": [
    "with open(\"trwiki_dump.txt\", \"r\", encoding=\"utf-8\") as f:\n",
    "    articles = f.readlines()"
   ]
  },
  {
   "cell_type": "code",
   "execution_count": 6,
   "id": "d4478054-5325-4969-a1e5-e0128b39c386",
   "metadata": {},
   "outputs": [],
   "source": [
    "sentences = [article.split() for article in articles]\n",
    "model = Word2Vec(sentences, vector_size=300, window=5, min_count=5, workers=4)"
   ]
  },
  {
   "cell_type": "code",
   "execution_count": 13,
   "id": "5fa0efd9-2cf3-4c33-b22b-6c8b19eb9817",
   "metadata": {},
   "outputs": [],
   "source": [
    "model.save(\"D:/nlp/my_word2vec_model\")"
   ]
  },
  {
   "cell_type": "code",
   "execution_count": 2,
   "id": "6b6398ef-f027-4864-a60c-5d24fe7581f7",
   "metadata": {},
   "outputs": [],
   "source": [
    "myModel = Word2Vec.load(\"D:/nlp/my_word2vec_model\")"
   ]
  },
  {
   "cell_type": "code",
   "execution_count": 74,
   "id": "d49515c9-8939-4837-9563-fafad12044cf",
   "metadata": {},
   "outputs": [
    {
     "name": "stdout",
     "output_type": "stream",
     "text": [
      "['atletizm', 'golf', 'futbol', 'boks', 'jimnastik', 'basketbol', 'judo', 'atıcılık', 'güreş', 'eskrim']\n"
     ]
    }
   ],
   "source": [
    "# Extract only the words (keys) from the tuples\n",
    "similar_words_keys = [word for word, _ in similar_words]\n",
    "print(similar_words_keys)"
   ]
  },
  {
   "cell_type": "code",
   "execution_count": 5,
   "id": "3ace275c-c90e-4abd-a243-b6e6d2265e37",
   "metadata": {},
   "outputs": [
    {
     "name": "stdout",
     "output_type": "stream",
     "text": [
      "Similarity between 'kadın' and 'erkek': 0.60\n"
     ]
    }
   ],
   "source": [
    "# Similarity between two words\n",
    "similarity_score = myModel.wv.similarity('kadın', 'erkek')\n",
    "print(f\"Similarity between 'kadın' and 'erkek': {similarity_score:.2f}\")"
   ]
  },
  {
   "cell_type": "code",
   "execution_count": 6,
   "id": "533f9cc2-0a01-4fe7-8a34-16fc99a0dfdf",
   "metadata": {},
   "outputs": [
    {
     "name": "stdout",
     "output_type": "stream",
     "text": [
      "[('kraliçe', 0.599615752696991), ('kralın', 0.5899590253829956), ('prens', 0.5771836638450623), ('hükümdar', 0.5621107220649719), ('kraliçenin', 0.5310666561126709)]\n"
     ]
    }
   ],
   "source": [
    "result = myModel.wv.most_similar(positive=['kral', 'kadın'], negative=['erkek'], topn=5)\n",
    "print(result)"
   ]
  },
  {
   "cell_type": "code",
   "execution_count": null,
   "id": "d6741cfd-a3ba-4912-9f36-931d4bc46281",
   "metadata": {},
   "outputs": [],
   "source": [
    "\n",
    "# Here I load the other models including the trmodel from 2018 and the ones in the gensim library\n"
   ]
  },
  {
   "cell_type": "code",
   "execution_count": 3,
   "id": "059abc36-7f0d-433d-8446-d6259525aaca",
   "metadata": {},
   "outputs": [],
   "source": [
    "import gensim.downloader"
   ]
  },
  {
   "cell_type": "code",
   "execution_count": 13,
   "id": "1481c2bb-1a57-4866-8196-001d412630c4",
   "metadata": {},
   "outputs": [
    {
     "name": "stdout",
     "output_type": "stream",
     "text": [
      "['fasttext-wiki-news-subwords-300', 'conceptnet-numberbatch-17-06-300', 'word2vec-ruscorpora-300', 'word2vec-google-news-300', 'glove-wiki-gigaword-50', 'glove-wiki-gigaword-100', 'glove-wiki-gigaword-200', 'glove-wiki-gigaword-300', 'glove-twitter-25', 'glove-twitter-50', 'glove-twitter-100', 'glove-twitter-200', '__testing_word2vec-matrix-synopsis']\n"
     ]
    }
   ],
   "source": [
    "# Show all available models in gensim-data\n",
    "print(list(gensim.downloader.info()['models'].keys()))"
   ]
  },
  {
   "cell_type": "code",
   "execution_count": 16,
   "id": "339f5043-2aee-4e6f-9c4e-ffad71fa8b42",
   "metadata": {},
   "outputs": [
    {
     "name": "stdout",
     "output_type": "stream",
     "text": [
      "[==================================================] 100.0% 376.1/376.1MB downloaded\n"
     ]
    }
   ],
   "source": [
    "# Download the models\n",
    "glove_wiki_vectors = gensim.downloader.load('glove-wiki-gigaword-300')"
   ]
  },
  {
   "cell_type": "code",
   "execution_count": 18,
   "id": "5d2fa5cc-3330-47dc-affc-8145bac612e6",
   "metadata": {},
   "outputs": [
    {
     "name": "stdout",
     "output_type": "stream",
     "text": [
      "[==================================================] 100.0% 1662.8/1662.8MB downloaded\n"
     ]
    }
   ],
   "source": [
    "# Download the models\n",
    "word2vec_google_vectors = gensim.downloader.load('word2vec-google-news-300')"
   ]
  },
  {
   "cell_type": "code",
   "execution_count": 17,
   "id": "3c8ceb83-08b5-4ffd-81ad-dcf5df219fbe",
   "metadata": {},
   "outputs": [
    {
     "name": "stdout",
     "output_type": "stream",
     "text": [
      "[==================================================] 100.0% 758.5/758.5MB downloaded\n"
     ]
    }
   ],
   "source": [
    "glove_twitter_vectors = gensim.downloader.load('glove-twitter-200')"
   ]
  },
  {
   "cell_type": "code",
   "execution_count": 4,
   "id": "fd84ad5e-63d7-4253-a238-ee186b8cf06d",
   "metadata": {},
   "outputs": [],
   "source": [
    "fasttext_vectors = gensim.downloader.load('fasttext-wiki-news-subwords-300')"
   ]
  },
  {
   "cell_type": "code",
   "execution_count": 5,
   "id": "fc9a7857-b400-42d3-b6c0-67bb90f0638e",
   "metadata": {},
   "outputs": [],
   "source": [
    "glove_vectors_twitter_200 = gensim.downloader.load('glove-twitter-200')"
   ]
  },
  {
   "cell_type": "code",
   "execution_count": 6,
   "id": "69296788-d102-41ff-9eb2-b14d6e2a3a75",
   "metadata": {},
   "outputs": [],
   "source": [
    "word2vec_google_vectors = gensim.downloader.load('word2vec-google-news-300')"
   ]
  },
  {
   "cell_type": "code",
   "execution_count": 7,
   "id": "46a71501-cf01-4fed-8160-0e3f102febee",
   "metadata": {},
   "outputs": [],
   "source": [
    "glove_vectors_wiki_300 = gensim.downloader.load('glove-wiki-gigaword-300')"
   ]
  },
  {
   "cell_type": "code",
   "execution_count": 8,
   "id": "9657ac1a-ce87-4dcb-bca5-3699de523879",
   "metadata": {},
   "outputs": [],
   "source": [
    "from gensim.models import KeyedVectors\n",
    "word_vectors = KeyedVectors.load_word2vec_format('D:/nlp/Word2Vec/trmodel', binary=True)"
   ]
  },
  {
   "cell_type": "code",
   "execution_count": null,
   "id": "c3163c2c-4c83-4745-ba2a-437d3113de2e",
   "metadata": {},
   "outputs": [],
   "source": [
    "\n",
    "# Here we are generating the similar words we are going to use to find the mean values from the lexicons\n"
   ]
  },
  {
   "cell_type": "code",
   "execution_count": 153,
   "id": "802b6714-dfa5-4b11-ba59-f927568c9286",
   "metadata": {},
   "outputs": [],
   "source": [
    "myModel_similar_words = []\n",
    "myModel_similar_words.append(myModel.wv.most_similar('spor'))\n",
    "myModel_similar_words.append(myModel.wv.most_similar('ekonomi'))\n",
    "myModel_similar_words.append(myModel.wv.most_similar('siyaset'))\n",
    "myModel_similar_words.append(myModel.wv.most_similar('magazin'))"
   ]
  },
  {
   "cell_type": "code",
   "execution_count": 154,
   "id": "d808fc35-fb91-4d65-8c04-42dc5141ed7c",
   "metadata": {},
   "outputs": [],
   "source": [
    "word_vectors_similar_words = []\n",
    "word_vectors_similar_words.append(word_vectors.most_similar('spor'))\n",
    "word_vectors_similar_words.append(word_vectors.most_similar('ekonomi'))\n",
    "word_vectors_similar_words.append(word_vectors.most_similar('siyaset'))\n",
    "word_vectors_similar_words.append(word_vectors.most_similar('magazin'))"
   ]
  },
  {
   "cell_type": "code",
   "execution_count": 155,
   "id": "e2bbf0da-4a76-421c-b027-1a7bfd444691",
   "metadata": {},
   "outputs": [],
   "source": [
    "fasttext_vectors_similar_words = []\n",
    "fasttext_vectors_similar_words.append(fasttext_vectors.most_similar('sport'))\n",
    "fasttext_vectors_similar_words.append(fasttext_vectors.most_similar('economy'))\n",
    "fasttext_vectors_similar_words.append(fasttext_vectors.most_similar('politics'))\n",
    "fasttext_vectors_similar_words.append(fasttext_vectors.most_similar('magazine'))"
   ]
  },
  {
   "cell_type": "code",
   "execution_count": 156,
   "id": "b9fe995e-7fe1-4a72-8412-f38739a17457",
   "metadata": {},
   "outputs": [],
   "source": [
    "glove_vectors_twitter_200_similar_words = []\n",
    "glove_vectors_twitter_200_similar_words.append(glove_vectors_twitter_200.most_similar('sport'))\n",
    "glove_vectors_twitter_200_similar_words.append(glove_vectors_twitter_200.most_similar('economy'))\n",
    "glove_vectors_twitter_200_similar_words.append(glove_vectors_twitter_200.most_similar('politics'))\n",
    "glove_vectors_twitter_200_similar_words.append(glove_vectors_twitter_200.most_similar('magazine'))"
   ]
  },
  {
   "cell_type": "code",
   "execution_count": 157,
   "id": "d951e661-f37e-449c-8ea8-a87c1cf1a9aa",
   "metadata": {},
   "outputs": [],
   "source": [
    "word2vec_google_vectors_similar_words = []\n",
    "word2vec_google_vectors_similar_words.append(word2vec_google_vectors.most_similar('sport'))\n",
    "word2vec_google_vectors_similar_words.append(word2vec_google_vectors.most_similar('economy'))\n",
    "word2vec_google_vectors_similar_words.append(word2vec_google_vectors.most_similar('politics'))\n",
    "word2vec_google_vectors_similar_words.append(word2vec_google_vectors.most_similar('magazine'))"
   ]
  },
  {
   "cell_type": "code",
   "execution_count": 158,
   "id": "dd4e8252-d545-4c2b-b24f-a676b188323e",
   "metadata": {},
   "outputs": [],
   "source": [
    "glove_vectors_wiki_300_similar_words = []\n",
    "glove_vectors_wiki_300_similar_words.append(glove_vectors_wiki_300.most_similar('sport'))\n",
    "glove_vectors_wiki_300_similar_words.append(glove_vectors_wiki_300.most_similar('economy'))\n",
    "glove_vectors_wiki_300_similar_words.append(glove_vectors_wiki_300.most_similar('politics'))\n",
    "glove_vectors_wiki_300_similar_words.append(glove_vectors_wiki_300.most_similar('magazine'))"
   ]
  },
  {
   "cell_type": "code",
   "execution_count": 165,
   "id": "192c8233-a9e0-427c-ab62-a808e290237c",
   "metadata": {},
   "outputs": [
    {
     "name": "stdout",
     "output_type": "stream",
     "text": [
      "[[('atletizm', 0.6230156421661377), ('golf', 0.5827366709709167), ('futbol', 0.582552969455719), ('boks', 0.5769471526145935), ('jimnastik', 0.5562563538551331), ('basketbol', 0.5559256076812744), ('judo', 0.5556262731552124), ('atıcılık', 0.5533008575439453), ('güreş', 0.5403624773025513), ('eskrim', 0.5401524901390076)], [('iktisat', 0.7841154932975769), ('finans', 0.686759889125824), ('ekonominin', 0.6714513301849365), ('sosyoloji', 0.6486487984657288), ('ekonomide', 0.6375420689582825), ('kalkınma', 0.6263455748558044), ('iktisadi', 0.6185798048973083), ('ekonomisi', 0.6177645921707153), ('bankacılık', 0.6161396503448486), ('Keynesyen', 0.6140685081481934)], [('ekonomi', 0.6019266247749329), ('politika', 0.5976355075836182), ('Siyaset', 0.5972539782524109), ('din', 0.5895630717277527), ('iktisat', 0.5783623456954956), ('hukuk', 0.5650961399078369), ('gazetecilik', 0.536783754825592), ('komünizm', 0.5332384705543518), ('sosyoloji', 0.5267059803009033), ('felsefe', 0.521415114402771)], [('kültür-sanat', 0.6819365620613098), ('podcast', 0.6339632868766785), ('dergi', 0.6329386830329895), ('tabloid', 0.6248376369476318), ('karikatür', 0.6126623153686523), ('Playboy', 0.6107959151268005), ('dergilerinin', 0.6095761656761169), ('talk-show', 0.6030300259590149), ('gülmece', 0.6007772088050842), ('gazetelerin', 0.5902154445648193)]]\n"
     ]
    }
   ],
   "source": [
    "print(myModel_similar_words)"
   ]
  },
  {
   "cell_type": "code",
   "execution_count": 160,
   "id": "9e6b4220-30b7-4090-8512-c208d97f8bb5",
   "metadata": {},
   "outputs": [
    {
     "name": "stdout",
     "output_type": "stream",
     "text": [
      "[[('hentbol', 0.4827810525894165), ('jimnastik', 0.4791412353515625), ('futbol', 0.4757230877876282), ('voleybol', 0.4749988317489624), ('atletizm', 0.4739413261413574), ('olimpik', 0.47358235716819763), ('binicilik', 0.46777424216270447), ('boks', 0.46244537830352783), ('dağcılık', 0.4621405303478241), ('antrenman', 0.45888960361480713)], [('iktisat', 0.5993712544441223), ('ekonomisi', 0.5323213338851929), ('tarım', 0.5208131670951843), ('ormancılık', 0.5194244980812073), ('finans', 0.5061902403831482), ('sosyoloji', 0.48716774582862854), ('endüstri', 0.4812268614768982), ('bankacılık', 0.4798280596733093), ('iktisadı', 0.46868646144866943), ('iktisadi', 0.4565109312534332)], [('politika', 0.6022088527679443), ('hukuk', 0.5193724036216736), ('sosyoloji', 0.5082001090049744), ('iktisat', 0.4998297393321991), ('din', 0.4977564513683319), ('siyaseti', 0.4827428460121155), ('laiklik', 0.48056960105895996), ('gazetecilik', 0.47732478380203247), ('siyasette', 0.47698014974594116), ('milliyetçilik', 0.46756696701049805)], [('ntv', 0.6667214035987854), ('habertürk', 0.6223770976066589), ('tgrt', 0.6219977140426636), ('skyturk', 0.5930911302566528), ('kanaltürk', 0.5851787328720093), ('aktüel', 0.5837352275848389), ('atv', 0.5800409913063049), ('dergilerinin', 0.5790901780128479), ('fhm', 0.5714167356491089), ('cine', 0.5661321878433228)]]\n"
     ]
    }
   ],
   "source": [
    "print(word_vectors_similar_words)"
   ]
  },
  {
   "cell_type": "code",
   "execution_count": 161,
   "id": "e1e2960b-2638-4435-9d62-2824ab454546",
   "metadata": {},
   "outputs": [
    {
     "name": "stdout",
     "output_type": "stream",
     "text": [
      "[[('sports', 0.8734080791473389), ('non-sport', 0.8134778738021851), ('sporting', 0.7916890382766724), ('sport-', 0.7534786462783813), ('non-sporting', 0.7505502104759216), ('sport-related', 0.7370049953460693), ('sport.', 0.7366815209388733), ('para-sport', 0.7300989031791687), ('sporter', 0.7264223694801331), ('football', 0.7231778502464294)], [('economy-', 0.8162562251091003), ('economy--', 0.8156778216362), ('economy--and', 0.78758704662323), ('macro-economy', 0.7809234857559204), ('micro-economy', 0.7799662351608276), ('macroeconomy', 0.7707034945487976), ('political-economy', 0.7458489537239075), ('e-economy', 0.7444375157356262), ('socio-economy', 0.7406526207923889), ('market-economy', 0.7390345335006714)], [('politics-', 0.7991707921028137), ('poltics', 0.7891025543212891), ('economics', 0.7666982412338257), ('power-politics', 0.7480936050415039), ('politics--', 0.7474135160446167), ('post-politics', 0.7403349876403809), ('geo-politics', 0.7387813925743103), ('geopolitics', 0.7302386164665222), ('micro-politics', 0.7272694706916809), ('ideology', 0.7229359149932861)], [('magazine-', 0.8150613903999329), ('magazines', 0.7865369319915771), ('Magazine', 0.78570955991745), ('e-magazine', 0.7843520641326904), ('news-magazine', 0.7553302645683289), ('magzine', 0.740959107875824), ('newsmagazine', 0.7346680164337158), ('magazine.', 0.7324536442756653), ('magazin', 0.72993403673172), ('magazine-type', 0.7286207675933838)]]\n"
     ]
    }
   ],
   "source": [
    "print(fasttext_vectors_similar_words)"
   ]
  },
  {
   "cell_type": "code",
   "execution_count": 162,
   "id": "912c923f-1ca2-4105-bb6c-253c71793c2b",
   "metadata": {},
   "outputs": [
    {
     "name": "stdout",
     "output_type": "stream",
     "text": [
      "[[('sports', 0.7726320028305054), ('soccer', 0.6573641896247864), ('football', 0.6516032218933105), ('tennis', 0.6352598071098328), ('rugby', 0.6188082098960876), ('golf', 0.6114485859870911), ('match', 0.5661069750785828), ('club', 0.5615650415420532), ('league', 0.5560426115989685), ('race', 0.55343097448349)], [('economic', 0.7768312692642212), ('growth', 0.7075239419937134), ('government', 0.6699988842010498), ('housing', 0.6661946773529053), ('recession', 0.6572623252868652), ('unemployment', 0.647741436958313), ('debt', 0.6460259556770325), ('markets', 0.6402777433395386), ('gdp', 0.6361783742904663), ('inflation', 0.6349005699157715)], [('political', 0.7709536552429199), ('politicians', 0.6662467122077942), ('government', 0.6618582606315613), ('democracy', 0.6611394286155701), ('election', 0.6533527970314026), ('policy', 0.6409396529197693), ('culture', 0.6393445730209351), ('corruption', 0.6371126174926758), ('economics', 0.6351119875907898), ('elections', 0.6247007846832275)], [('vogue', 0.7300538420677185), ('cosmopolitan', 0.6953093409538269), ('newspaper', 0.6633840799331665), ('issue', 0.654393196105957), ('photoshoot', 0.63434237241745), ('gq', 0.6313749551773071), ('journal', 0.6286208629608154), ('article', 0.6268523335456848), ('magazines', 0.6216122508049011), ('featured', 0.6074329614639282)]]\n"
     ]
    }
   ],
   "source": [
    "print(glove_vectors_twitter_200_similar_words)"
   ]
  },
  {
   "cell_type": "code",
   "execution_count": 163,
   "id": "a128326f-8174-4034-a6ff-e69e2a277633",
   "metadata": {},
   "outputs": [
    {
     "name": "stdout",
     "output_type": "stream",
     "text": [
      "[[('sports', 0.6914728283882141), ('Snooki_wannabes', 0.5916634798049927), ('painkillers_throat_lozenges', 0.5643172264099121), ('racing', 0.5616023540496826), ('sporting', 0.559779703617096), ('athletics', 0.5516576766967773), ('alpine_ski_racing', 0.5514240264892578), ('Pole_vaulting', 0.5459784269332886), ('motorsport', 0.5384281277656555), ('boxing', 0.5330564379692078)], [('economic', 0.7219074368476868), ('econ_omy', 0.6942843794822693), ('economies', 0.6638296842575073), ('theeconomy', 0.6517611742019653), ('ecomony', 0.6481687426567078), ('recession', 0.6335979104042053), ('ecomomy', 0.6117811799049377), ('econonmy', 0.6115710139274597), ('recesssion', 0.5793707966804504), ('GDP', 0.5781735181808472)], [('partisan_politics', 0.6832237839698792), ('Politics', 0.6740255355834961), ('political', 0.6718930602073669), ('politcs', 0.6221948266029358), ('poltics', 0.5941638350486755), ('Lisa_Vorderbrueggen_covers', 0.586605429649353), ('partisanship', 0.5735563039779663), ('politicians', 0.5705571174621582), ('politician', 0.5695299506187439), ('politicking', 0.5680171251296997)], [('Magazine', 0.8585332036018372), ('mag', 0.7542710900306702), ('magazines', 0.7124360203742981), ('GQ', 0.6473500728607178), ('glossy_magazine', 0.6424658298492432), ('Newsweek', 0.6112207174301147), ('mags', 0.6076789498329163), ('Vogue', 0.6052153706550598), ('Vanity_Fair', 0.6026098728179932), ('Esquire', 0.5978664755821228)]]\n"
     ]
    }
   ],
   "source": [
    "print(word2vec_google_vectors_similar_words)"
   ]
  },
  {
   "cell_type": "code",
   "execution_count": 164,
   "id": "c21b5b1a-789d-4aa1-b6f0-5a721d90730a",
   "metadata": {},
   "outputs": [
    {
     "name": "stdout",
     "output_type": "stream",
     "text": [
      "[[('sports', 0.7273980379104614), ('sporting', 0.5669748187065125), ('racing', 0.5142362713813782), ('cycling', 0.5013169646263123), ('athletes', 0.49068424105644226), ('soccer', 0.4906269609928131), ('athlete', 0.47825050354003906), ('compete', 0.4556841254234314), ('football', 0.4551796317100525), ('recreational', 0.45266616344451904)], [('economic', 0.7488551735877991), ('economies', 0.6856932044029236), ('recession', 0.673973560333252), ('growth', 0.6677507758140564), ('sector', 0.6322444081306458), ('downturn', 0.6174972653388977), ('slowing', 0.6144936084747314), ('slowdown', 0.614378035068512), ('recovery', 0.6035361886024475), ('sluggish', 0.559046745300293)], [('political', 0.7455655932426453), ('politicians', 0.5590653419494629), ('religion', 0.53647381067276), ('culture', 0.5128363370895386), ('ideology', 0.5120471715927124), ('partisan', 0.49971258640289307), ('liberal', 0.49780213832855225), ('debate', 0.4889591932296753), ('social', 0.4863775968551636), ('matters', 0.48255446553230286)], [('magazines', 0.7376031279563904), ('editor', 0.666740357875824), ('publisher', 0.6257365942001343), ('publication', 0.6253547072410583), ('publications', 0.6173754930496216), ('newspaper', 0.5940240025520325), ('published', 0.5827919244766235), ('weekly', 0.5786964893341064), ('esquire', 0.5778223872184753), ('newsweek', 0.5562642216682434)]]\n"
     ]
    }
   ],
   "source": [
    "print(glove_vectors_wiki_300_similar_words)"
   ]
  },
  {
   "cell_type": "code",
   "execution_count": 191,
   "id": "5d0516fe-776a-4583-882b-31c9a76a8580",
   "metadata": {},
   "outputs": [
    {
     "name": "stdout",
     "output_type": "stream",
     "text": [
      "[{'language': 'tr', 'myModel_similar_words': [[('atletizm', 0.6230156421661377), ('golf', 0.5827366709709167), ('futbol', 0.582552969455719), ('boks', 0.5769471526145935), ('jimnastik', 0.5562563538551331), ('basketbol', 0.5559256076812744), ('judo', 0.5556262731552124), ('atıcılık', 0.5533008575439453), ('güreş', 0.5403624773025513), ('eskrim', 0.5401524901390076)], [('iktisat', 0.7841154932975769), ('finans', 0.686759889125824), ('ekonominin', 0.6714513301849365), ('sosyoloji', 0.6486487984657288), ('ekonomide', 0.6375420689582825), ('kalkınma', 0.6263455748558044), ('iktisadi', 0.6185798048973083), ('ekonomisi', 0.6177645921707153), ('bankacılık', 0.6161396503448486), ('Keynesyen', 0.6140685081481934)], [('ekonomi', 0.6019266247749329), ('politika', 0.5976355075836182), ('Siyaset', 0.5972539782524109), ('din', 0.5895630717277527), ('iktisat', 0.5783623456954956), ('hukuk', 0.5650961399078369), ('gazetecilik', 0.536783754825592), ('komünizm', 0.5332384705543518), ('sosyoloji', 0.5267059803009033), ('felsefe', 0.521415114402771)], [('kültür-sanat', 0.6819365620613098), ('podcast', 0.6339632868766785), ('dergi', 0.6329386830329895), ('tabloid', 0.6248376369476318), ('karikatür', 0.6126623153686523), ('Playboy', 0.6107959151268005), ('dergilerinin', 0.6095761656761169), ('talk-show', 0.6030300259590149), ('gülmece', 0.6007772088050842), ('gazetelerin', 0.5902154445648193)]]}, {'language': 'tr', 'word_vectors_similar_words': [[('hentbol', 0.4827810525894165), ('jimnastik', 0.4791412353515625), ('futbol', 0.4757230877876282), ('voleybol', 0.4749988317489624), ('atletizm', 0.4739413261413574), ('olimpik', 0.47358235716819763), ('binicilik', 0.46777424216270447), ('boks', 0.46244537830352783), ('dağcılık', 0.4621405303478241), ('antrenman', 0.45888960361480713)], [('iktisat', 0.5993712544441223), ('ekonomisi', 0.5323213338851929), ('tarım', 0.5208131670951843), ('ormancılık', 0.5194244980812073), ('finans', 0.5061902403831482), ('sosyoloji', 0.48716774582862854), ('endüstri', 0.4812268614768982), ('bankacılık', 0.4798280596733093), ('iktisadı', 0.46868646144866943), ('iktisadi', 0.4565109312534332)], [('politika', 0.6022088527679443), ('hukuk', 0.5193724036216736), ('sosyoloji', 0.5082001090049744), ('iktisat', 0.4998297393321991), ('din', 0.4977564513683319), ('siyaseti', 0.4827428460121155), ('laiklik', 0.48056960105895996), ('gazetecilik', 0.47732478380203247), ('siyasette', 0.47698014974594116), ('milliyetçilik', 0.46756696701049805)], [('ntv', 0.6667214035987854), ('habertürk', 0.6223770976066589), ('tgrt', 0.6219977140426636), ('skyturk', 0.5930911302566528), ('kanaltürk', 0.5851787328720093), ('aktüel', 0.5837352275848389), ('atv', 0.5800409913063049), ('dergilerinin', 0.5790901780128479), ('fhm', 0.5714167356491089), ('cine', 0.5661321878433228)]]}, {'language': 'en', 'fasttext_vectors_similar_words': [[('sports', 0.8734080791473389), ('non-sport', 0.8134778738021851), ('sporting', 0.7916890382766724), ('sport-', 0.7534786462783813), ('non-sporting', 0.7505502104759216), ('sport-related', 0.7370049953460693), ('sport.', 0.7366815209388733), ('para-sport', 0.7300989031791687), ('sporter', 0.7264223694801331), ('football', 0.7231778502464294)], [('economy-', 0.8162562251091003), ('economy--', 0.8156778216362), ('economy--and', 0.78758704662323), ('macro-economy', 0.7809234857559204), ('micro-economy', 0.7799662351608276), ('macroeconomy', 0.7707034945487976), ('political-economy', 0.7458489537239075), ('e-economy', 0.7444375157356262), ('socio-economy', 0.7406526207923889), ('market-economy', 0.7390345335006714)], [('politics-', 0.7991707921028137), ('poltics', 0.7891025543212891), ('economics', 0.7666982412338257), ('power-politics', 0.7480936050415039), ('politics--', 0.7474135160446167), ('post-politics', 0.7403349876403809), ('geo-politics', 0.7387813925743103), ('geopolitics', 0.7302386164665222), ('micro-politics', 0.7272694706916809), ('ideology', 0.7229359149932861)], [('magazine-', 0.8150613903999329), ('magazines', 0.7865369319915771), ('Magazine', 0.78570955991745), ('e-magazine', 0.7843520641326904), ('news-magazine', 0.7553302645683289), ('magzine', 0.740959107875824), ('newsmagazine', 0.7346680164337158), ('magazine.', 0.7324536442756653), ('magazin', 0.72993403673172), ('magazine-type', 0.7286207675933838)]]}, {'language': 'en', 'glove_vectors_twitter_200_similar_words': [[('sports', 0.7726320028305054), ('soccer', 0.6573641896247864), ('football', 0.6516032218933105), ('tennis', 0.6352598071098328), ('rugby', 0.6188082098960876), ('golf', 0.6114485859870911), ('match', 0.5661069750785828), ('club', 0.5615650415420532), ('league', 0.5560426115989685), ('race', 0.55343097448349)], [('economic', 0.7768312692642212), ('growth', 0.7075239419937134), ('government', 0.6699988842010498), ('housing', 0.6661946773529053), ('recession', 0.6572623252868652), ('unemployment', 0.647741436958313), ('debt', 0.6460259556770325), ('markets', 0.6402777433395386), ('gdp', 0.6361783742904663), ('inflation', 0.6349005699157715)], [('political', 0.7709536552429199), ('politicians', 0.6662467122077942), ('government', 0.6618582606315613), ('democracy', 0.6611394286155701), ('election', 0.6533527970314026), ('policy', 0.6409396529197693), ('culture', 0.6393445730209351), ('corruption', 0.6371126174926758), ('economics', 0.6351119875907898), ('elections', 0.6247007846832275)], [('vogue', 0.7300538420677185), ('cosmopolitan', 0.6953093409538269), ('newspaper', 0.6633840799331665), ('issue', 0.654393196105957), ('photoshoot', 0.63434237241745), ('gq', 0.6313749551773071), ('journal', 0.6286208629608154), ('article', 0.6268523335456848), ('magazines', 0.6216122508049011), ('featured', 0.6074329614639282)]]}, {'language': 'en', 'word2vec_google_vectors_similar_words': [[('sports', 0.6914728283882141), ('Snooki_wannabes', 0.5916634798049927), ('painkillers_throat_lozenges', 0.5643172264099121), ('racing', 0.5616023540496826), ('sporting', 0.559779703617096), ('athletics', 0.5516576766967773), ('alpine_ski_racing', 0.5514240264892578), ('Pole_vaulting', 0.5459784269332886), ('motorsport', 0.5384281277656555), ('boxing', 0.5330564379692078)], [('economic', 0.7219074368476868), ('econ_omy', 0.6942843794822693), ('economies', 0.6638296842575073), ('theeconomy', 0.6517611742019653), ('ecomony', 0.6481687426567078), ('recession', 0.6335979104042053), ('ecomomy', 0.6117811799049377), ('econonmy', 0.6115710139274597), ('recesssion', 0.5793707966804504), ('GDP', 0.5781735181808472)], [('partisan_politics', 0.6832237839698792), ('Politics', 0.6740255355834961), ('political', 0.6718930602073669), ('politcs', 0.6221948266029358), ('poltics', 0.5941638350486755), ('Lisa_Vorderbrueggen_covers', 0.586605429649353), ('partisanship', 0.5735563039779663), ('politicians', 0.5705571174621582), ('politician', 0.5695299506187439), ('politicking', 0.5680171251296997)], [('Magazine', 0.8585332036018372), ('mag', 0.7542710900306702), ('magazines', 0.7124360203742981), ('GQ', 0.6473500728607178), ('glossy_magazine', 0.6424658298492432), ('Newsweek', 0.6112207174301147), ('mags', 0.6076789498329163), ('Vogue', 0.6052153706550598), ('Vanity_Fair', 0.6026098728179932), ('Esquire', 0.5978664755821228)]]}, {'language': 'en', 'glove_vectors_wiki_300_similar_words': [[('sports', 0.7273980379104614), ('sporting', 0.5669748187065125), ('racing', 0.5142362713813782), ('cycling', 0.5013169646263123), ('athletes', 0.49068424105644226), ('soccer', 0.4906269609928131), ('athlete', 0.47825050354003906), ('compete', 0.4556841254234314), ('football', 0.4551796317100525), ('recreational', 0.45266616344451904)], [('economic', 0.7488551735877991), ('economies', 0.6856932044029236), ('recession', 0.673973560333252), ('growth', 0.6677507758140564), ('sector', 0.6322444081306458), ('downturn', 0.6174972653388977), ('slowing', 0.6144936084747314), ('slowdown', 0.614378035068512), ('recovery', 0.6035361886024475), ('sluggish', 0.559046745300293)], [('political', 0.7455655932426453), ('politicians', 0.5590653419494629), ('religion', 0.53647381067276), ('culture', 0.5128363370895386), ('ideology', 0.5120471715927124), ('partisan', 0.49971258640289307), ('liberal', 0.49780213832855225), ('debate', 0.4889591932296753), ('social', 0.4863775968551636), ('matters', 0.48255446553230286)], [('magazines', 0.7376031279563904), ('editor', 0.666740357875824), ('publisher', 0.6257365942001343), ('publication', 0.6253547072410583), ('publications', 0.6173754930496216), ('newspaper', 0.5940240025520325), ('published', 0.5827919244766235), ('weekly', 0.5786964893341064), ('esquire', 0.5778223872184753), ('newsweek', 0.5562642216682434)]]}]\n"
     ]
    }
   ],
   "source": [
    "model_names = []\n",
    "model_names.append({'language': 'tr', 'myModel_similar_words': myModel_similar_words})\n",
    "model_names.append({'language': 'tr', 'word_vectors_similar_words': word_vectors_similar_words})\n",
    "model_names.append({'language': 'en', 'fasttext_vectors_similar_words': fasttext_vectors_similar_words})\n",
    "model_names.append({'language': 'en', 'glove_vectors_twitter_200_similar_words': glove_vectors_twitter_200_similar_words})\n",
    "model_names.append({'language': 'en', 'word2vec_google_vectors_similar_words': word2vec_google_vectors_similar_words})\n",
    "model_names.append({'language': 'en', 'glove_vectors_wiki_300_similar_words': glove_vectors_wiki_300_similar_words})\n",
    "print(model_names)"
   ]
  },
  {
   "cell_type": "code",
   "execution_count": null,
   "id": "68867e4b-f865-462e-a603-05bef5c6b384",
   "metadata": {},
   "outputs": [],
   "source": [
    "\n",
    "# Here we are loading the lexicons\n"
   ]
  },
  {
   "cell_type": "code",
   "execution_count": 121,
   "id": "3c1b94f6-fc72-43db-a3d3-f5df56052b5e",
   "metadata": {},
   "outputs": [],
   "source": [
    "# Load Turkish NRC-VAD Lexicon\n",
    "nrc_vad_path = \"D:/nlp/NRC-VAD/NRC-VAD-Lexicon/OneFilePerLanguage/Turkish-NRC-VAD-Lexicon.txt\"\n",
    "nrc_vad_df = pd.read_csv(nrc_vad_path,skiprows=1, sep='\\t', names=['English Word', 'Valence', 'Arousal', 'Dominance','Turkish Word'])"
   ]
  },
  {
   "cell_type": "code",
   "execution_count": 178,
   "id": "b74c6584-e41c-4bed-97f3-f7c2aa69f7ca",
   "metadata": {},
   "outputs": [],
   "source": [
    "# Load English MTL_grouped Lexicon\n",
    "mtl_grouped_path_en = \"D:/nlp/MTL_grouped/en.tsv\"\n",
    "mtl_grouped_df_en = pd.read_csv(mtl_grouped_path, sep='\\t', skiprows=1, names=['word', 'valence', 'arousal', 'dominance', 'joy', 'anger', 'sadness', 'fear', 'disgust'])"
   ]
  },
  {
   "cell_type": "code",
   "execution_count": 136,
   "id": "37b1d5c4-7760-41b7-a569-1aff18b003bf",
   "metadata": {},
   "outputs": [],
   "source": [
    "# Load Turkish MTL_grouped Lexicon\n",
    "mtl_grouped_path = \"D:/nlp/MTL_grouped/tr.tsv\"\n",
    "mtl_grouped_df = pd.read_csv(mtl_grouped_path, sep='\\t', skiprows=1, names=['word', 'valence', 'arousal', 'dominance', 'joy', 'anger', 'sadness', 'fear', 'disgust'])"
   ]
  },
  {
   "cell_type": "code",
   "execution_count": null,
   "id": "e484e4a0-99ea-4c4f-87d4-0a988d94d82d",
   "metadata": {},
   "outputs": [],
   "source": [
    "\n",
    "# Here we checked the null variables inside the lexicons\n"
   ]
  },
  {
   "cell_type": "code",
   "execution_count": 286,
   "id": "6fdae98d-800d-439e-b42f-2450ef5b1182",
   "metadata": {},
   "outputs": [
    {
     "name": "stdout",
     "output_type": "stream",
     "text": [
      "word         0\n",
      "valence      0\n",
      "arousal      0\n",
      "dominance    0\n",
      "joy          0\n",
      "anger        0\n",
      "sadness      0\n",
      "fear         0\n",
      "disgust      0\n",
      "dtype: int64\n"
     ]
    }
   ],
   "source": [
    "# Check for missing values\n",
    "print(mtl_grouped_df.isnull().sum())\n",
    "\n",
    "# If you decide to drop rows with missing values\n",
    "mtl_grouped_df.dropna(inplace=True)\n"
   ]
  },
  {
   "cell_type": "code",
   "execution_count": 285,
   "id": "f8c7c9bb-539e-42b2-bb9a-811eb80ca2a7",
   "metadata": {},
   "outputs": [],
   "source": [
    "mtl_grouped_df.dropna(subset=['word'], inplace=True)"
   ]
  },
  {
   "cell_type": "code",
   "execution_count": null,
   "id": "650576de-0a88-4e65-94e7-8ff5d1510d2b",
   "metadata": {},
   "outputs": [],
   "source": [
    "mtl_grouped_df.info()"
   ]
  },
  {
   "cell_type": "code",
   "execution_count": 281,
   "id": "ad8451f3-955d-494a-a7a6-01783239edf6",
   "metadata": {},
   "outputs": [
    {
     "name": "stdout",
     "output_type": "stream",
     "text": [
      "Data types before conversion - MTL-Grouped dataset:\n",
      "word          object\n",
      "valence      float64\n",
      "arousal      float64\n",
      "dominance    float64\n",
      "joy          float64\n",
      "anger        float64\n",
      "sadness      float64\n",
      "fear         float64\n",
      "disgust      float64\n",
      "dtype: object\n",
      "Data types after conversion - MTL-Grouped dataset:\n",
      "word          object\n",
      "valence      float64\n",
      "arousal      float64\n",
      "dominance    float64\n",
      "joy          float64\n",
      "anger        float64\n",
      "sadness      float64\n",
      "fear         float64\n",
      "disgust      float64\n",
      "dtype: object\n"
     ]
    }
   ],
   "source": [
    "# Print data types before conversion\n",
    "print(\"Data types before conversion - MTL-Grouped dataset:\")\n",
    "print(mtl_grouped_df.dtypes)\n",
    "\n",
    "# Convert columns to numeric in MTL-Grouped dataset\n",
    "mtl_grouped_df[['valence', 'arousal', 'dominance', 'joy', 'anger', 'sadness', 'fear', 'disgust']] = mtl_grouped_df[['valence', 'arousal', 'dominance', 'joy', 'anger', 'sadness', 'fear', 'disgust']].apply(pd.to_numeric, errors='coerce')\n",
    "\n",
    "# Print data types after conversion\n",
    "print(\"Data types after conversion - MTL-Grouped dataset:\")\n",
    "print(mtl_grouped_df.dtypes)\n"
   ]
  },
  {
   "cell_type": "code",
   "execution_count": null,
   "id": "f23829e1-c08d-4ccd-becb-7292c57b7422",
   "metadata": {},
   "outputs": [],
   "source": [
    "\n",
    "# Here we calculate the means of the found similar words of the each model\n"
   ]
  },
  {
   "cell_type": "code",
   "execution_count": 278,
   "id": "e563b1e5-772e-4e9c-b789-f03695a6b14f",
   "metadata": {},
   "outputs": [
    {
     "name": "stdout",
     "output_type": "stream",
     "text": [
      "\n",
      "myModel_similar_words\n",
      "\n",
      "['atletizm', 'golf', 'futbol', 'boks', 'jimnastik', 'basketbol', 'judo', 'atıcılık', 'güreş', 'eskrim']\n",
      "+----------------+------------+---------------+\n",
      "|                |    NRC-VAD |   MTL Grouped |\n",
      "+================+============+===============+\n",
      "| Valence Mean   |   0.57975  |         5.467 |\n",
      "+----------------+------------+---------------+\n",
      "| Arousal Mean   |   0.743667 |         4.348 |\n",
      "+----------------+------------+---------------+\n",
      "| Dominance Mean |   0.651667 |         5.485 |\n",
      "+----------------+------------+---------------+\n",
      "| Joy Mean       | nan        |         2.124 |\n",
      "+----------------+------------+---------------+\n",
      "| Anger Mean     | nan        |         1.483 |\n",
      "+----------------+------------+---------------+\n",
      "| Sadness Mean   | nan        |         1.427 |\n",
      "+----------------+------------+---------------+\n",
      "| Fear Mean      | nan        |         1.53  |\n",
      "+----------------+------------+---------------+\n",
      "| Disgust Mean   | nan        |         1.453 |\n",
      "+----------------+------------+---------------+\n",
      "-----------------------------------------\n",
      "['iktisat', 'finans', 'ekonominin', 'sosyoloji', 'ekonomide', 'kalkınma', 'iktisadi', 'ekonomisi', 'bankacılık', 'Keynesyen']\n",
      "+----------------+-----------+---------------+\n",
      "|                |   NRC-VAD |   MTL Grouped |\n",
      "+================+===========+===============+\n",
      "| Valence Mean   |     0.626 |         5.145 |\n",
      "+----------------+-----------+---------------+\n",
      "| Arousal Mean   |     0.399 |         3.923 |\n",
      "+----------------+-----------+---------------+\n",
      "| Dominance Mean |     0.679 |         5.237 |\n",
      "+----------------+-----------+---------------+\n",
      "| Joy Mean       |   nan     |         2.062 |\n",
      "+----------------+-----------+---------------+\n",
      "| Anger Mean     |   nan     |         1.411 |\n",
      "+----------------+-----------+---------------+\n",
      "| Sadness Mean   |   nan     |         1.366 |\n",
      "+----------------+-----------+---------------+\n",
      "| Fear Mean      |   nan     |         1.428 |\n",
      "+----------------+-----------+---------------+\n",
      "| Disgust Mean   |   nan     |         1.414 |\n",
      "+----------------+-----------+---------------+\n",
      "-----------------------------------------\n",
      "['ekonomi', 'politika', 'Siyaset', 'din', 'iktisat', 'hukuk', 'gazetecilik', 'komünizm', 'sosyoloji', 'felsefe']\n",
      "+----------------+------------+---------------+\n",
      "|                |    NRC-VAD |   MTL Grouped |\n",
      "+================+============+===============+\n",
      "| Valence Mean   |   0.508818 |         4.977 |\n",
      "+----------------+------------+---------------+\n",
      "| Arousal Mean   |   0.458091 |         4.037 |\n",
      "+----------------+------------+---------------+\n",
      "| Dominance Mean |   0.667455 |         5.174 |\n",
      "+----------------+------------+---------------+\n",
      "| Joy Mean       | nan        |         1.9   |\n",
      "+----------------+------------+---------------+\n",
      "| Anger Mean     | nan        |         1.547 |\n",
      "+----------------+------------+---------------+\n",
      "| Sadness Mean   | nan        |         1.483 |\n",
      "+----------------+------------+---------------+\n",
      "| Fear Mean      | nan        |         1.562 |\n",
      "+----------------+------------+---------------+\n",
      "| Disgust Mean   | nan        |         1.549 |\n",
      "+----------------+------------+---------------+\n",
      "-----------------------------------------\n",
      "['kültür-sanat', 'podcast', 'dergi', 'tabloid', 'karikatür', 'Playboy', 'dergilerinin', 'talk-show', 'gülmece', 'gazetelerin']\n",
      "+----------------+-----------+---------------+\n",
      "|                |   NRC-VAD |   MTL Grouped |\n",
      "+================+===========+===============+\n",
      "| Valence Mean   |   0.631   |         5.5   |\n",
      "+----------------+-----------+---------------+\n",
      "| Arousal Mean   |   0.38525 |         4.264 |\n",
      "+----------------+-----------+---------------+\n",
      "| Dominance Mean |   0.39775 |         5.45  |\n",
      "+----------------+-----------+---------------+\n",
      "| Joy Mean       | nan       |         2.182 |\n",
      "+----------------+-----------+---------------+\n",
      "| Anger Mean     | nan       |         1.453 |\n",
      "+----------------+-----------+---------------+\n",
      "| Sadness Mean   | nan       |         1.401 |\n",
      "+----------------+-----------+---------------+\n",
      "| Fear Mean      | nan       |         1.492 |\n",
      "+----------------+-----------+---------------+\n",
      "| Disgust Mean   | nan       |         1.432 |\n",
      "+----------------+-----------+---------------+\n",
      "-----------------------------------------\n",
      "\n",
      "word_vectors_similar_words\n",
      "\n",
      "['hentbol', 'jimnastik', 'futbol', 'voleybol', 'atletizm', 'olimpik', 'binicilik', 'boks', 'dağcılık', 'antrenman']\n",
      "+----------------+------------+---------------+\n",
      "|                |    NRC-VAD |   MTL Grouped |\n",
      "+================+============+===============+\n",
      "| Valence Mean   |   0.645333 |         5.622 |\n",
      "+----------------+------------+---------------+\n",
      "| Arousal Mean   |   0.696333 |         4.298 |\n",
      "+----------------+------------+---------------+\n",
      "| Dominance Mean |   0.576667 |         5.542 |\n",
      "+----------------+------------+---------------+\n",
      "| Joy Mean       | nan        |         2.37  |\n",
      "+----------------+------------+---------------+\n",
      "| Anger Mean     | nan        |         1.416 |\n",
      "+----------------+------------+---------------+\n",
      "| Sadness Mean   | nan        |         1.382 |\n",
      "+----------------+------------+---------------+\n",
      "| Fear Mean      | nan        |         1.47  |\n",
      "+----------------+------------+---------------+\n",
      "| Disgust Mean   | nan        |         1.378 |\n",
      "+----------------+------------+---------------+\n",
      "-----------------------------------------\n",
      "['iktisat', 'ekonomisi', 'tarım', 'ormancılık', 'finans', 'sosyoloji', 'endüstri', 'bankacılık', 'iktisadı', 'iktisadi']\n",
      "+----------------+-----------+---------------+\n",
      "|                |   NRC-VAD |   MTL Grouped |\n",
      "+================+===========+===============+\n",
      "| Valence Mean   |    0.6295 |         5.253 |\n",
      "+----------------+-----------+---------------+\n",
      "| Arousal Mean   |    0.3885 |         3.764 |\n",
      "+----------------+-----------+---------------+\n",
      "| Dominance Mean |    0.6255 |         5.324 |\n",
      "+----------------+-----------+---------------+\n",
      "| Joy Mean       |  nan      |         2.051 |\n",
      "+----------------+-----------+---------------+\n",
      "| Anger Mean     |  nan      |         1.393 |\n",
      "+----------------+-----------+---------------+\n",
      "| Sadness Mean   |  nan      |         1.35  |\n",
      "+----------------+-----------+---------------+\n",
      "| Fear Mean      |  nan      |         1.406 |\n",
      "+----------------+-----------+---------------+\n",
      "| Disgust Mean   |  nan      |         1.4   |\n",
      "+----------------+-----------+---------------+\n",
      "-----------------------------------------\n",
      "['politika', 'hukuk', 'sosyoloji', 'iktisat', 'din', 'siyaseti', 'laiklik', 'gazetecilik', 'siyasette', 'milliyetçilik']\n",
      "+----------------+------------+---------------+\n",
      "|                |    NRC-VAD |   MTL Grouped |\n",
      "+================+============+===============+\n",
      "| Valence Mean   |   0.499111 |         4.92  |\n",
      "+----------------+------------+---------------+\n",
      "| Arousal Mean   |   0.443778 |         4.015 |\n",
      "+----------------+------------+---------------+\n",
      "| Dominance Mean |   0.652778 |         5.17  |\n",
      "+----------------+------------+---------------+\n",
      "| Joy Mean       | nan        |         1.822 |\n",
      "+----------------+------------+---------------+\n",
      "| Anger Mean     | nan        |         1.578 |\n",
      "+----------------+------------+---------------+\n",
      "| Sadness Mean   | nan        |         1.503 |\n",
      "+----------------+------------+---------------+\n",
      "| Fear Mean      | nan        |         1.565 |\n",
      "+----------------+------------+---------------+\n",
      "| Disgust Mean   | nan        |         1.613 |\n",
      "+----------------+------------+---------------+\n",
      "-----------------------------------------\n",
      "['ntv', 'habertürk', 'tgrt', 'skyturk', 'kanaltürk', 'aktüel', 'atv', 'dergilerinin', 'fhm', 'cine']\n",
      "+----------------+-----------+---------------+\n",
      "|                |   NRC-VAD |   MTL Grouped |\n",
      "+================+===========+===============+\n",
      "| Valence Mean   |       nan |       5.16    |\n",
      "+----------------+-----------+---------------+\n",
      "| Arousal Mean   |       nan |       4.39111 |\n",
      "+----------------+-----------+---------------+\n",
      "| Dominance Mean |       nan |       5.18556 |\n",
      "+----------------+-----------+---------------+\n",
      "| Joy Mean       |       nan |       1.97222 |\n",
      "+----------------+-----------+---------------+\n",
      "| Anger Mean     |       nan |       1.54444 |\n",
      "+----------------+-----------+---------------+\n",
      "| Sadness Mean   |       nan |       1.47556 |\n",
      "+----------------+-----------+---------------+\n",
      "| Fear Mean      |       nan |       1.60889 |\n",
      "+----------------+-----------+---------------+\n",
      "| Disgust Mean   |       nan |       1.50222 |\n",
      "+----------------+-----------+---------------+\n",
      "-----------------------------------------\n",
      "\n",
      "fasttext_vectors_similar_words\n",
      "\n",
      "['sports', 'non-sport', 'sporting', 'sport-', 'non-sporting', 'sport-related', 'sport.', 'para-sport', 'sporter', 'football']\n",
      "+----------------+------------+---------------+\n",
      "|                |    NRC-VAD |   MTL Grouped |\n",
      "+================+============+===============+\n",
      "| Valence Mean   |   0.835    |       5.49333 |\n",
      "+----------------+------------+---------------+\n",
      "| Arousal Mean   |   0.699667 |       4.60333 |\n",
      "+----------------+------------+---------------+\n",
      "| Dominance Mean |   0.614667 |       5.54667 |\n",
      "+----------------+------------+---------------+\n",
      "| Joy Mean       | nan        |       2.24667 |\n",
      "+----------------+------------+---------------+\n",
      "| Anger Mean     | nan        |       1.46    |\n",
      "+----------------+------------+---------------+\n",
      "| Sadness Mean   | nan        |       1.42    |\n",
      "+----------------+------------+---------------+\n",
      "| Fear Mean      | nan        |       1.52    |\n",
      "+----------------+------------+---------------+\n",
      "| Disgust Mean   | nan        |       1.42333 |\n",
      "+----------------+------------+---------------+\n",
      "\n",
      "-----------------------------------------\n",
      "\n",
      "['economy-', 'economy--', 'economy--and', 'macro-economy', 'micro-economy', 'macroeconomy', 'political-economy', 'e-economy', 'socio-economy', 'market-economy']\n",
      "+----------------+-----------+---------------+\n",
      "|                |   NRC-VAD |   MTL Grouped |\n",
      "+================+===========+===============+\n",
      "| Valence Mean   |       nan |           nan |\n",
      "+----------------+-----------+---------------+\n",
      "| Arousal Mean   |       nan |           nan |\n",
      "+----------------+-----------+---------------+\n",
      "| Dominance Mean |       nan |           nan |\n",
      "+----------------+-----------+---------------+\n",
      "| Joy Mean       |       nan |           nan |\n",
      "+----------------+-----------+---------------+\n",
      "| Anger Mean     |       nan |           nan |\n",
      "+----------------+-----------+---------------+\n",
      "| Sadness Mean   |       nan |           nan |\n",
      "+----------------+-----------+---------------+\n",
      "| Fear Mean      |       nan |           nan |\n",
      "+----------------+-----------+---------------+\n",
      "| Disgust Mean   |       nan |           nan |\n",
      "+----------------+-----------+---------------+\n",
      "\n",
      "-----------------------------------------\n",
      "\n",
      "['politics-', 'poltics', 'economics', 'power-politics', 'politics--', 'post-politics', 'geo-politics', 'geopolitics', 'micro-politics', 'ideology']\n",
      "+----------------+-----------+---------------+\n",
      "|                |   NRC-VAD |   MTL Grouped |\n",
      "+================+===========+===============+\n",
      "| Valence Mean   |    0.599  |       4.49667 |\n",
      "+----------------+-----------+---------------+\n",
      "| Arousal Mean   |    0.4125 |       4.21333 |\n",
      "+----------------+-----------+---------------+\n",
      "| Dominance Mean |    0.662  |       4.92667 |\n",
      "+----------------+-----------+---------------+\n",
      "| Joy Mean       |  nan      |       1.74333 |\n",
      "+----------------+-----------+---------------+\n",
      "| Anger Mean     |  nan      |       1.71333 |\n",
      "+----------------+-----------+---------------+\n",
      "| Sadness Mean   |  nan      |       1.62    |\n",
      "+----------------+-----------+---------------+\n",
      "| Fear Mean      |  nan      |       1.7     |\n",
      "+----------------+-----------+---------------+\n",
      "| Disgust Mean   |  nan      |       1.74333 |\n",
      "+----------------+-----------+---------------+\n",
      "\n",
      "-----------------------------------------\n",
      "\n",
      "['magazine-', 'magazines', 'Magazine', 'e-magazine', 'news-magazine', 'magzine', 'newsmagazine', 'magazine.', 'magazin', 'magazine-type']\n",
      "+----------------+-----------+---------------+\n",
      "|                |   NRC-VAD |   MTL Grouped |\n",
      "+================+===========+===============+\n",
      "| Valence Mean   |       nan |       5.75    |\n",
      "+----------------+-----------+---------------+\n",
      "| Arousal Mean   |       nan |       4.57667 |\n",
      "+----------------+-----------+---------------+\n",
      "| Dominance Mean |       nan |       5.61    |\n",
      "+----------------+-----------+---------------+\n",
      "| Joy Mean       |       nan |       2.4     |\n",
      "+----------------+-----------+---------------+\n",
      "| Anger Mean     |       nan |       1.40667 |\n",
      "+----------------+-----------+---------------+\n",
      "| Sadness Mean   |       nan |       1.37667 |\n",
      "+----------------+-----------+---------------+\n",
      "| Fear Mean      |       nan |       1.46333 |\n",
      "+----------------+-----------+---------------+\n",
      "| Disgust Mean   |       nan |       1.37333 |\n",
      "+----------------+-----------+---------------+\n",
      "\n",
      "-----------------------------------------\n",
      "\n",
      "\n",
      "glove_vectors_twitter_200_similar_words\n",
      "\n",
      "['sports', 'soccer', 'football', 'tennis', 'rugby', 'golf', 'match', 'club', 'league', 'race']\n",
      "+----------------+-----------+---------------+\n",
      "|                |   NRC-VAD |   MTL Grouped |\n",
      "+================+===========+===============+\n",
      "| Valence Mean   |    0.6651 |         5.491 |\n",
      "+----------------+-----------+---------------+\n",
      "| Arousal Mean   |    0.5934 |         4.459 |\n",
      "+----------------+-----------+---------------+\n",
      "| Dominance Mean |    0.5412 |         5.497 |\n",
      "+----------------+-----------+---------------+\n",
      "| Joy Mean       |  nan      |         2.224 |\n",
      "+----------------+-----------+---------------+\n",
      "| Anger Mean     |  nan      |         1.433 |\n",
      "+----------------+-----------+---------------+\n",
      "| Sadness Mean   |  nan      |         1.392 |\n",
      "+----------------+-----------+---------------+\n",
      "| Fear Mean      |  nan      |         1.49  |\n",
      "+----------------+-----------+---------------+\n",
      "| Disgust Mean   |  nan      |         1.399 |\n",
      "+----------------+-----------+---------------+\n",
      "\n",
      "-----------------------------------------\n",
      "\n",
      "['economic', 'growth', 'government', 'housing', 'recession', 'unemployment', 'debt', 'markets', 'gdp', 'inflation']\n",
      "+----------------+-----------+---------------+\n",
      "|                |   NRC-VAD |   MTL Grouped |\n",
      "+================+===========+===============+\n",
      "| Valence Mean   |   0.44575 |         4.8   |\n",
      "+----------------+-----------+---------------+\n",
      "| Arousal Mean   |   0.50225 |         4.231 |\n",
      "+----------------+-----------+---------------+\n",
      "| Dominance Mean |   0.54625 |         5.013 |\n",
      "+----------------+-----------+---------------+\n",
      "| Joy Mean       | nan       |         1.793 |\n",
      "+----------------+-----------+---------------+\n",
      "| Anger Mean     | nan       |         1.699 |\n",
      "+----------------+-----------+---------------+\n",
      "| Sadness Mean   | nan       |         1.628 |\n",
      "+----------------+-----------+---------------+\n",
      "| Fear Mean      | nan       |         1.714 |\n",
      "+----------------+-----------+---------------+\n",
      "| Disgust Mean   | nan       |         1.694 |\n",
      "+----------------+-----------+---------------+\n",
      "\n",
      "-----------------------------------------\n",
      "\n",
      "['political', 'politicians', 'government', 'democracy', 'election', 'policy', 'culture', 'corruption', 'economics', 'elections']\n",
      "+----------------+------------+---------------+\n",
      "|                |    NRC-VAD |   MTL Grouped |\n",
      "+================+============+===============+\n",
      "| Valence Mean   |   0.479125 |         4.717 |\n",
      "+----------------+------------+---------------+\n",
      "| Arousal Mean   |   0.578625 |         4.196 |\n",
      "+----------------+------------+---------------+\n",
      "| Dominance Mean |   0.738125 |         5.116 |\n",
      "+----------------+------------+---------------+\n",
      "| Joy Mean       | nan        |         1.786 |\n",
      "+----------------+------------+---------------+\n",
      "| Anger Mean     | nan        |         1.688 |\n",
      "+----------------+------------+---------------+\n",
      "| Sadness Mean   | nan        |         1.598 |\n",
      "+----------------+------------+---------------+\n",
      "| Fear Mean      | nan        |         1.672 |\n",
      "+----------------+------------+---------------+\n",
      "| Disgust Mean   | nan        |         1.715 |\n",
      "+----------------+------------+---------------+\n",
      "\n",
      "-----------------------------------------\n",
      "\n",
      "['vogue', 'cosmopolitan', 'newspaper', 'issue', 'photoshoot', 'gq', 'journal', 'article', 'magazines', 'featured']\n",
      "+----------------+------------+---------------+\n",
      "|                |    NRC-VAD |   MTL Grouped |\n",
      "+================+============+===============+\n",
      "| Valence Mean   |   0.627167 |         5.521 |\n",
      "+----------------+------------+---------------+\n",
      "| Arousal Mean   |   0.437167 |         4.315 |\n",
      "+----------------+------------+---------------+\n",
      "| Dominance Mean |   0.487667 |         5.492 |\n",
      "+----------------+------------+---------------+\n",
      "| Joy Mean       | nan        |         2.185 |\n",
      "+----------------+------------+---------------+\n",
      "| Anger Mean     | nan        |         1.45  |\n",
      "+----------------+------------+---------------+\n",
      "| Sadness Mean   | nan        |         1.405 |\n",
      "+----------------+------------+---------------+\n",
      "| Fear Mean      | nan        |         1.488 |\n",
      "+----------------+------------+---------------+\n",
      "| Disgust Mean   | nan        |         1.431 |\n",
      "+----------------+------------+---------------+\n",
      "\n",
      "-----------------------------------------\n",
      "\n",
      "\n",
      "word2vec_google_vectors_similar_words\n",
      "\n",
      "['sports', 'Snooki_wannabes', 'painkillers_throat_lozenges', 'racing', 'sporting', 'athletics', 'alpine_ski_racing', 'Pole_vaulting', 'motorsport', 'boxing']\n",
      "+----------------+-----------+---------------+\n",
      "|                |   NRC-VAD |   MTL Grouped |\n",
      "+================+===========+===============+\n",
      "| Valence Mean   |   0.752   |       5.45667 |\n",
      "+----------------+-----------+---------------+\n",
      "| Arousal Mean   |   0.721   |       4.575   |\n",
      "+----------------+-----------+---------------+\n",
      "| Dominance Mean |   0.66175 |       5.45    |\n",
      "+----------------+-----------+---------------+\n",
      "| Joy Mean       | nan       |       2.11667 |\n",
      "+----------------+-----------+---------------+\n",
      "| Anger Mean     | nan       |       1.475   |\n",
      "+----------------+-----------+---------------+\n",
      "| Sadness Mean   | nan       |       1.42167 |\n",
      "+----------------+-----------+---------------+\n",
      "| Fear Mean      | nan       |       1.52333 |\n",
      "+----------------+-----------+---------------+\n",
      "| Disgust Mean   | nan       |       1.445   |\n",
      "+----------------+-----------+---------------+\n",
      "\n",
      "-----------------------------------------\n",
      "\n",
      "['economic', 'econ_omy', 'economies', 'theeconomy', 'ecomony', 'recession', 'ecomomy', 'econonmy', 'recesssion', 'GDP']\n",
      "+----------------+-----------+---------------+\n",
      "|                |   NRC-VAD |   MTL Grouped |\n",
      "+================+===========+===============+\n",
      "| Valence Mean   |    0.4645 |        5.1725 |\n",
      "+----------------+-----------+---------------+\n",
      "| Arousal Mean   |    0.403  |        4.255  |\n",
      "+----------------+-----------+---------------+\n",
      "| Dominance Mean |    0.506  |        5.32   |\n",
      "+----------------+-----------+---------------+\n",
      "| Joy Mean       |  nan      |        2.01   |\n",
      "+----------------+-----------+---------------+\n",
      "| Anger Mean     |  nan      |        1.555  |\n",
      "+----------------+-----------+---------------+\n",
      "| Sadness Mean   |  nan      |        1.5075 |\n",
      "+----------------+-----------+---------------+\n",
      "| Fear Mean      |  nan      |        1.59   |\n",
      "+----------------+-----------+---------------+\n",
      "| Disgust Mean   |  nan      |        1.5325 |\n",
      "+----------------+-----------+---------------+\n",
      "\n",
      "-----------------------------------------\n",
      "\n",
      "['partisan_politics', 'Politics', 'political', 'politcs', 'poltics', 'Lisa_Vorderbrueggen_covers', 'partisanship', 'politicians', 'politician', 'politicking']\n",
      "+----------------+------------+---------------+\n",
      "|                |    NRC-VAD |   MTL Grouped |\n",
      "+================+============+===============+\n",
      "| Valence Mean   |   0.369333 |        4.62   |\n",
      "+----------------+------------+---------------+\n",
      "| Arousal Mean   |   0.615667 |        4.3125 |\n",
      "+----------------+------------+---------------+\n",
      "| Dominance Mean |   0.763    |        5.06   |\n",
      "+----------------+------------+---------------+\n",
      "| Joy Mean       | nan        |        1.705  |\n",
      "+----------------+------------+---------------+\n",
      "| Anger Mean     | nan        |        1.75   |\n",
      "+----------------+------------+---------------+\n",
      "| Sadness Mean   | nan        |        1.6325 |\n",
      "+----------------+------------+---------------+\n",
      "| Fear Mean      | nan        |        1.705  |\n",
      "+----------------+------------+---------------+\n",
      "| Disgust Mean   | nan        |        1.81   |\n",
      "+----------------+------------+---------------+\n",
      "\n",
      "-----------------------------------------\n",
      "\n",
      "['Magazine', 'mag', 'magazines', 'GQ', 'glossy_magazine', 'Newsweek', 'mags', 'Vogue', 'Vanity_Fair', 'Esquire']\n",
      "+----------------+-----------+---------------+\n",
      "|                |   NRC-VAD |   MTL Grouped |\n",
      "+================+===========+===============+\n",
      "| Valence Mean   |       nan |       6.05857 |\n",
      "+----------------+-----------+---------------+\n",
      "| Arousal Mean   |       nan |       5.12429 |\n",
      "+----------------+-----------+---------------+\n",
      "| Dominance Mean |       nan |       5.75857 |\n",
      "+----------------+-----------+---------------+\n",
      "| Joy Mean       |       nan |       2.16    |\n",
      "+----------------+-----------+---------------+\n",
      "| Anger Mean     |       nan |       1.54429 |\n",
      "+----------------+-----------+---------------+\n",
      "| Sadness Mean   |       nan |       1.49    |\n",
      "+----------------+-----------+---------------+\n",
      "| Fear Mean      |       nan |       1.63286 |\n",
      "+----------------+-----------+---------------+\n",
      "| Disgust Mean   |       nan |       1.48    |\n",
      "+----------------+-----------+---------------+\n",
      "\n",
      "-----------------------------------------\n",
      "\n",
      "\n",
      "glove_vectors_wiki_300_similar_words\n",
      "\n",
      "['sports', 'sporting', 'racing', 'cycling', 'athletes', 'soccer', 'athlete', 'compete', 'football', 'recreational']\n",
      "+----------------+------------+---------------+\n",
      "|                |    NRC-VAD |   MTL Grouped |\n",
      "+================+============+===============+\n",
      "| Valence Mean   |   0.779    |         5.403 |\n",
      "+----------------+------------+---------------+\n",
      "| Arousal Mean   |   0.726429 |         4.565 |\n",
      "+----------------+------------+---------------+\n",
      "| Dominance Mean |   0.634143 |         5.406 |\n",
      "+----------------+------------+---------------+\n",
      "| Joy Mean       | nan        |         2.036 |\n",
      "+----------------+------------+---------------+\n",
      "| Anger Mean     | nan        |         1.514 |\n",
      "+----------------+------------+---------------+\n",
      "| Sadness Mean   | nan        |         1.449 |\n",
      "+----------------+------------+---------------+\n",
      "| Fear Mean      | nan        |         1.564 |\n",
      "+----------------+------------+---------------+\n",
      "| Disgust Mean   | nan        |         1.484 |\n",
      "+----------------+------------+---------------+\n",
      "\n",
      "-----------------------------------------\n",
      "\n",
      "['economic', 'economies', 'recession', 'growth', 'sector', 'downturn', 'slowing', 'slowdown', 'recovery', 'sluggish']\n",
      "+----------------+------------+---------------+\n",
      "|                |    NRC-VAD |   MTL Grouped |\n",
      "+================+============+===============+\n",
      "| Valence Mean   |   0.574167 |       5.02222 |\n",
      "+----------------+------------+---------------+\n",
      "| Arousal Mean   |   0.351667 |       4.42667 |\n",
      "+----------------+------------+---------------+\n",
      "| Dominance Mean |   0.5415   |       5.20667 |\n",
      "+----------------+------------+---------------+\n",
      "| Joy Mean       | nan        |       1.99667 |\n",
      "+----------------+------------+---------------+\n",
      "| Anger Mean     | nan        |       1.65333 |\n",
      "+----------------+------------+---------------+\n",
      "| Sadness Mean   | nan        |       1.59778 |\n",
      "+----------------+------------+---------------+\n",
      "| Fear Mean      | nan        |       1.68889 |\n",
      "+----------------+------------+---------------+\n",
      "| Disgust Mean   | nan        |       1.62444 |\n",
      "+----------------+------------+---------------+\n",
      "\n",
      "-----------------------------------------\n",
      "\n",
      "['political', 'politicians', 'religion', 'culture', 'ideology', 'partisan', 'liberal', 'debate', 'social', 'matters']\n",
      "+----------------+------------+---------------+\n",
      "|                |    NRC-VAD |   MTL Grouped |\n",
      "+================+============+===============+\n",
      "| Valence Mean   |   0.589125 |         4.808 |\n",
      "+----------------+------------+---------------+\n",
      "| Arousal Mean   |   0.484125 |         4.205 |\n",
      "+----------------+------------+---------------+\n",
      "| Dominance Mean |   0.71475  |         5.132 |\n",
      "+----------------+------------+---------------+\n",
      "| Joy Mean       | nan        |         1.844 |\n",
      "+----------------+------------+---------------+\n",
      "| Anger Mean     | nan        |         1.634 |\n",
      "+----------------+------------+---------------+\n",
      "| Sadness Mean   | nan        |         1.542 |\n",
      "+----------------+------------+---------------+\n",
      "| Fear Mean      | nan        |         1.621 |\n",
      "+----------------+------------+---------------+\n",
      "| Disgust Mean   | nan        |         1.666 |\n",
      "+----------------+------------+---------------+\n",
      "\n",
      "-----------------------------------------\n",
      "\n",
      "['magazines', 'editor', 'publisher', 'publication', 'publications', 'newspaper', 'published', 'weekly', 'esquire', 'newsweek']\n",
      "+----------------+------------+---------------+\n",
      "|                |    NRC-VAD |   MTL Grouped |\n",
      "+================+============+===============+\n",
      "| Valence Mean   |   0.626714 |       5.49222 |\n",
      "+----------------+------------+---------------+\n",
      "| Arousal Mean   |   0.405    |       4.08556 |\n",
      "+----------------+------------+---------------+\n",
      "| Dominance Mean |   0.553714 |       5.62444 |\n",
      "+----------------+------------+---------------+\n",
      "| Joy Mean       | nan        |       2.02667 |\n",
      "+----------------+------------+---------------+\n",
      "| Anger Mean     | nan        |       1.45333 |\n",
      "+----------------+------------+---------------+\n",
      "| Sadness Mean   | nan        |       1.39778 |\n",
      "+----------------+------------+---------------+\n",
      "| Fear Mean      | nan        |       1.47222 |\n",
      "+----------------+------------+---------------+\n",
      "| Disgust Mean   | nan        |       1.45667 |\n",
      "+----------------+------------+---------------+\n",
      "\n",
      "-----------------------------------------\n",
      "\n"
     ]
    }
   ],
   "source": [
    "from tabulate import tabulate\n",
    "\n",
    "for i in model_names:\n",
    "    language = \"\"\n",
    "    for model_name, model_output in i.items():\n",
    "        if(model_name == \"language\"):\n",
    "            language = model_output\n",
    "        else:\n",
    "            title = model_name\n",
    "            print(f\"\\n{title}\\n\")\n",
    "            if(language == \"tr\"):\n",
    "                for j in model_output:\n",
    "                    similar_words = [word for word, _ in j]\n",
    "                    print(similar_words)\n",
    "                    # Filter out rows with NaN values for NRC-VAD\n",
    "                    nrc_vad_filtered = nrc_vad_df.loc[nrc_vad_df['Turkish Word'].isin(similar_words)]\n",
    "                    # Calculate means for NRC-VAD\n",
    "                    nrc_vad_means = {\n",
    "                        'Valence Mean': nrc_vad_filtered['Valence'].mean(),\n",
    "                        'Arousal Mean': nrc_vad_filtered['Arousal'].mean(),\n",
    "                        'Dominance Mean': nrc_vad_filtered['Dominance'].mean()\n",
    "                    }\n",
    "                    nrc_vad_mean = pd.DataFrame.from_dict(nrc_vad_means, orient='index', columns=['NRC-VAD'])\n",
    "                    \n",
    "                    # Calculate means for each dimension for MTL Grouped\n",
    "                    mtl_grouped_means = {\n",
    "                        'Valence Mean': mtl_grouped_df.loc[mtl_grouped_df['word'].isin(similar_words)]['valence'].mean(),\n",
    "                        'Arousal Mean': mtl_grouped_df.loc[mtl_grouped_df['word'].isin(similar_words)]['arousal'].mean(),\n",
    "                        'Dominance Mean': mtl_grouped_df.loc[mtl_grouped_df['word'].isin(similar_words)]['dominance'].mean(),\n",
    "                        'Joy Mean': mtl_grouped_df.loc[mtl_grouped_df['word'].isin(similar_words)]['joy'].mean(),\n",
    "                        'Anger Mean': mtl_grouped_df.loc[mtl_grouped_df['word'].isin(similar_words)]['anger'].mean(),\n",
    "                        'Sadness Mean': mtl_grouped_df.loc[mtl_grouped_df['word'].isin(similar_words)]['sadness'].mean(),\n",
    "                        'Fear Mean': mtl_grouped_df.loc[mtl_grouped_df['word'].isin(similar_words)]['fear'].mean(),\n",
    "                        'Disgust Mean': mtl_grouped_df.loc[mtl_grouped_df['word'].isin(similar_words)]['disgust'].mean()\n",
    "                    }\n",
    "                    mtl_grouped_df_mean = pd.DataFrame.from_dict(mtl_grouped_means, orient='index', columns=['MTL Grouped'])\n",
    "                    \n",
    "                    similar_words_df = pd.DataFrame(similar_words,columns=['Similar Words'])\n",
    "                    \n",
    "                    # Concatenate DataFrames\n",
    "                    lexicon_table = pd.concat([nrc_vad_mean, mtl_grouped_df_mean], axis=1)\n",
    "                    table = tabulate(lexicon_table, headers='keys', tablefmt='grid', showindex=True)\n",
    "                    print(table)\n",
    "                    print(\"-----------------------------------------\")\n",
    "            elif(language == \"en\"):\n",
    "                for j in model_output:\n",
    "                    similar_words = [word for word, _ in j]\n",
    "                    print(similar_words)\n",
    "                    # Calculate means for each dimension\n",
    "                    valence_mean = nrc_vad_df.loc[nrc_vad_df['English Word'].isin(similar_words)]['Valence'].mean()\n",
    "                    arousal_mean = nrc_vad_df.loc[nrc_vad_df['English Word'].isin(similar_words)]['Arousal'].mean()\n",
    "                    dominance_mean = nrc_vad_df.loc[nrc_vad_df['English Word'].isin(similar_words)]['Dominance'].mean()\n",
    "                    nrc_vad_means = {'Valence Mean': valence_mean, 'Arousal Mean': arousal_mean, 'Dominance Mean': dominance_mean}\n",
    "                    nrc_vad_mean = pd.DataFrame.from_dict(nrc_vad_means, orient='index', columns=['NRC-VAD'])\n",
    "                \n",
    "    \n",
    "                    \n",
    "                    # Calculate means for each dimension\n",
    "                    valence_mean = mtl_grouped_df_en.loc[mtl_grouped_df_en['word'].isin(similar_words)]['valence'].mean()\n",
    "                    arousal_mean = mtl_grouped_df_en.loc[mtl_grouped_df_en['word'].isin(similar_words)]['arousal'].mean()\n",
    "                    dominance_mean = mtl_grouped_df_en.loc[mtl_grouped_df_en['word'].isin(similar_words)]['dominance'].mean()\n",
    "                    joy_mean = mtl_grouped_df_en.loc[mtl_grouped_df_en['word'].isin(similar_words)]['joy'].mean()\n",
    "                    anger_mean = mtl_grouped_df_en.loc[mtl_grouped_df_en['word'].isin(similar_words)]['anger'].mean()\n",
    "                    sadness_mean = mtl_grouped_df_en.loc[mtl_grouped_df_en['word'].isin(similar_words)]['sadness'].mean()\n",
    "                    fear_mean = mtl_grouped_df_en.loc[mtl_grouped_df_en['word'].isin(similar_words)]['fear'].mean()\n",
    "                    disgust_mean = mtl_grouped_df.loc[mtl_grouped_df_en['word'].isin(similar_words)]['disgust'].mean()\n",
    "                    \n",
    "                    \n",
    "                    mtl_grouped_means = {'Valence Mean': valence_mean, 'Arousal Mean': arousal_mean, 'Dominance Mean': dominance_mean,\n",
    "                                         'Joy Mean': joy_mean, 'Anger Mean': anger_mean, 'Sadness Mean': sadness_mean, 'Fear Mean': fear_mean,\n",
    "                                         'Disgust Mean': disgust_mean}\n",
    "                    \n",
    "                    mtl_grouped_df_mean = pd.DataFrame.from_dict(mtl_grouped_means, orient='index', columns=['MTL Grouped'])\n",
    "                    lexicon_table = pd.concat([nrc_vad_mean, mtl_grouped_df_mean], axis=1)\n",
    "                    table = tabulate(lexicon_table, headers='keys', tablefmt='grid', showindex=True)\n",
    "                    print(table)\n",
    "                    print(\"\\n-----------------------------------------\\n\")\n",
    "            "
   ]
  }
 ],
 "metadata": {
  "kernelspec": {
   "display_name": "Python 3 (ipykernel)",
   "language": "python",
   "name": "python3"
  },
  "language_info": {
   "codemirror_mode": {
    "name": "ipython",
    "version": 3
   },
   "file_extension": ".py",
   "mimetype": "text/x-python",
   "name": "python",
   "nbconvert_exporter": "python",
   "pygments_lexer": "ipython3",
   "version": "3.9.5"
  }
 },
 "nbformat": 4,
 "nbformat_minor": 5
}
